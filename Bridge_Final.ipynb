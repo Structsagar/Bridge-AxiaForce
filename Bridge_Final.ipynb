{
  "cells": [
    {
      "cell_type": "markdown",
      "metadata": {
        "id": "view-in-github",
        "colab_type": "text"
      },
      "source": [
        "<a href=\"https://colab.research.google.com/github/Structsagar/Bridge-AxiaForce/blob/main/Bridge_Final.ipynb\" target=\"_parent\"><img src=\"https://colab.research.google.com/assets/colab-badge.svg\" alt=\"Open In Colab\"/></a>"
      ]
    },
    {
      "cell_type": "markdown",
      "metadata": {
        "id": "kCA3lF9_lEhd"
      },
      "source": [
        "**Importing Libraries**"
      ]
    },
    {
      "cell_type": "code",
      "execution_count": 2,
      "metadata": {
        "id": "XuGTzkEvf5a8"
      },
      "outputs": [],
      "source": [
        "import numpy as np\n",
        "import matplotlib.pyplot as plt\n",
        "from matplotlib import animation\n",
        "from IPython.display import HTML\n",
        "import matplotlib\n",
        "import math\n",
        "from matplotlib.lines import Line2D\n",
        "matplotlib.rcParams['animation.embed_limit'] = 100 * 1024 * 1024"
      ]
    },
    {
      "cell_type": "markdown",
      "metadata": {
        "id": "vJladpIclMYA"
      },
      "source": [
        "**Initialisation**"
      ]
    },
    {
      "cell_type": "code",
      "execution_count": 3,
      "metadata": {
        "id": "nSPaWp9QEnew"
      },
      "outputs": [],
      "source": [
        "# Define the axial forces for each bay\n",
        "span = 48\n",
        "bays = 6\n",
        "Br_height =10\n",
        "bay_width = round(span / bays, 2)\n",
        "angle =np.arctan(Br_height / bay_width)  # Angle in radians\n",
        "loads = [[80, 0],\n",
        "         [120, 3.96],\n",
        "         [120, 5.48],         #[load,Position] loads in KN\n",
        "         [170, 7.61],\n",
        "         [170,8.98],\n",
        "         [170,12.03],\n",
        "         [170,13.4]\n",
        "         ]         #Position =cumulative distance in m\n"
      ]
    },
    {
      "cell_type": "markdown",
      "metadata": {
        "id": "EN0N0CHxjEGd"
      },
      "source": [
        "**Ordinate Calculation of a Truss**"
      ]
    },
    {
      "cell_type": "code",
      "execution_count": 4,
      "metadata": {
        "colab": {
          "base_uri": "https://localhost:8080/"
        },
        "id": "yTlUG16dg6su",
        "outputId": "c1520576-9e94-4391-eb5f-14de1b663b7d"
      },
      "outputs": [
        {
          "output_type": "stream",
          "name": "stdout",
          "text": [
            "[0.667, 0.667, 1.067, 1.067, 0.667, 0.667]\n",
            "[-1.067, -1.067, -1.2, -1.2, -1.067, -1.067]\n",
            "[[-0.213, 0.854], [-0.427, 0.64], [0.64, -0.427], [0.854, -0.213]]\n",
            "[[1, 0], [0.333, -0.5], [0, 0], [-0.5, 0.333], [0, 1]]\n"
          ]
        }
      ],
      "source": [
        "bot_ord=[]\n",
        "for j in range(bays):\n",
        "  if j==0 or (j>=bays/2 and j<bays-1):\n",
        "    bot_ord.append(round(((j+1)*bay_width*(span-(j+1)*bay_width))/(span*Br_height),3))\n",
        "  else:\n",
        "    bot_ord.append(round((j*bay_width*(span-j*bay_width))/(span*Br_height),3))\n",
        "print(bot_ord)\n",
        "\n",
        "upp_ord=[]\n",
        "for j in range(bays):\n",
        "  if j==0:\n",
        "    upp_ord.append(round(-((span-(j+1)*bay_width)/span)*(1/(math.sin(math.atan(Br_height/bay_width)))),3))\n",
        "  elif j==bays-1:\n",
        "    upp_ord.append(round(-(j*bay_width/span)*(1/(math.sin(math.atan(Br_height/bay_width)))),3))\n",
        "  elif j>0 and j<bays/2:\n",
        "    upp_ord.append(round(-((j+1)*bay_width*(span-(j+1)*bay_width))/(span*Br_height),3))\n",
        "  else:\n",
        "    upp_ord.append(round(-(j*bay_width*(span-j*bay_width))/(span*Br_height),3))\n",
        "print(upp_ord)\n",
        "\n",
        "diag_ord=[[] for i in range(bays-2)]\n",
        "for i in range(bays-2):\n",
        "  if i<(bays-2)/2:\n",
        "    diag_ord[i].append(round(-(((i+1)*bay_width)/span*(1/(math.sin(math.atan(Br_height/bay_width))))),3))\n",
        "  else:\n",
        "     diag_ord[i].append(round((((i+1)*bay_width)/span*(1/(math.sin(math.atan(Br_height/bay_width))))),3))\n",
        "  for j in range(bays):\n",
        "    if j==i+1 and j<bays/2:\n",
        "      diag_ord[i].append(round(((span-(j+1)*bay_width)/span*(1/(math.sin(math.atan(Br_height/bay_width))))),3))\n",
        "    elif j==i+1 and j>=bays/2:\n",
        "      diag_ord[i].append(round(-((span-(j+1)*bay_width)/span*(1/(math.sin(math.atan(Br_height/bay_width))))),3))\n",
        "    else:\n",
        "      pass\n",
        "print(diag_ord)\n",
        "\n",
        "vert_ord=[[] for i in range(bays-1)]\n",
        "for i in range(bays-1):\n",
        "  if i==0:\n",
        "    vert_ord[i].append(1)\n",
        "  elif i==bays-2:\n",
        "    vert_ord[i].append(0)\n",
        "  elif i>0 and i<math.floor((bays-1)/2):\n",
        "    vert_ord[i].append(round(((i+1)*bay_width)/span,3))\n",
        "  elif i==math.floor((bays-1)/2):\n",
        "    vert_ord[i].append(0)\n",
        "  else:\n",
        "    vert_ord[i].append(round((-(i*bay_width)/span),3))\n",
        "  for j in range(bays):\n",
        "    if j==i+1 and j==bays-1:\n",
        "      vert_ord[i].append(1)\n",
        "    elif j==i+1 and j==1:\n",
        "      vert_ord[i].append(0)\n",
        "    elif j==i+1 and j<(bays/2):\n",
        "      vert_ord[i].append(round((-(span-(j+1)*bay_width)/span),3))\n",
        "    elif j==i+1 and j==bays/2:\n",
        "      vert_ord[i].append(0)\n",
        "    elif j==i+1 and j>bays/2:\n",
        "      vert_ord[i].append(round(((span-j*bay_width)/span),3))\n",
        "    else:\n",
        "      pass\n",
        "print(vert_ord)"
      ]
    },
    {
      "cell_type": "markdown",
      "metadata": {
        "id": "Pssray9qjI58"
      },
      "source": [
        "**Section Calculation**\n",
        "\n",
        "\n",
        "\n",
        "\n"
      ]
    },
    {
      "cell_type": "code",
      "execution_count": 5,
      "metadata": {
        "colab": {
          "base_uri": "https://localhost:8080/"
        },
        "id": "5LRAJhHZiwjM",
        "outputId": "d4467f6a-ac60-48d4-a5f6-9e3eb5f392d5"
      },
      "outputs": [
        {
          "output_type": "stream",
          "name": "stdout",
          "text": [
            "[8.0, 8.0, 16.0, 32.0, 40.0, 40.0]\n",
            "[8.0, 16.0, 24.0, 24.0, 32.0, 40.0]\n",
            "[[8.0, 16.0], [16.0, 24.0], [24.0, 32.0], [32.0, 40.0]]\n",
            "[[8.0, 16.0], [16.0, 24.0], [16.0, 32.0], [24.0, 32.0], [32.0, 40.0]]\n"
          ]
        }
      ],
      "source": [
        "bot_sec = [((sec+1)*bay_width) if sec == 0 or (sec >= bays/2 and sec < bays-1) else (sec*bay_width) for sec in range(bays)]\n",
        "print(bot_sec)\n",
        "\n",
        "upp_sec = [((sec+1)*bay_width) if sec < bays/2 else (sec*bay_width) for sec in range(bays)]\n",
        "print(upp_sec)\n",
        "\n",
        "diag_sec=[[] for i in range(bays-2)]\n",
        "for i in range(bays-2):\n",
        "  diag_sec[i].append((i+1)*bay_width)\n",
        "  for j in range(bays-1):\n",
        "    if j==i+1:\n",
        "      diag_sec[i].append((j+1)*bay_width)\n",
        "print(diag_sec)\n",
        "\n",
        "vert_sec=[[] for i in range(bays-1)]\n",
        "for i in range(bays-1):\n",
        "  if i ==bays/2-1:\n",
        "    vert_sec[i].append(i*bay_width)\n",
        "  elif i<bays/2-1:\n",
        "    vert_sec[i].append((i+1)*bay_width)\n",
        "  else:\n",
        "    vert_sec[i].append((i)*bay_width)\n",
        "  for j in range(bays):\n",
        "   # if j==i+1 and j==1:\n",
        "   #   vert_sec[i].append(0)\n",
        "    if j==i+1 and j<=bays/2:\n",
        "      vert_sec[i].append((j+1)*bay_width)\n",
        "    #elif j==i+1 and j==bays/2:\n",
        "      #vert_sec[i].append(0)\n",
        "    elif j==i+1 and j>bays/2:\n",
        "      vert_sec[i].append(j*bay_width)\n",
        "print(vert_sec)"
      ]
    },
    {
      "cell_type": "markdown",
      "metadata": {
        "id": "DweM6QuLljOC"
      },
      "source": [
        "**Truss Plotting Logic**"
      ]
    },
    {
      "cell_type": "code",
      "execution_count": 6,
      "metadata": {
        "colab": {
          "base_uri": "https://localhost:8080/",
          "height": 182
        },
        "id": "fTgiQtvPleR9",
        "outputId": "0bdfa41b-4aeb-4cbf-e9f9-b59ccf2f499f"
      },
      "outputs": [
        {
          "output_type": "display_data",
          "data": {
            "text/plain": [
              "<Figure size 640x480 with 1 Axes>"
            ],
            "image/png": "[encoded data removed]"
          },
          "metadata": {}
        }
      ],
      "source": [
        "# Initializing the figure and bar collection\n",
        "fig, ax = plt.subplots()\n",
        "\n",
        "legend_lines = [Line2D([0], [0], color='red', lw=2),\n",
        "                Line2D([0], [0], color='blue', lw=2)]\n",
        "legend_labels = ['Compression', 'Tension']\n",
        "\n",
        "# Add the legend to your axes\n",
        "ax.legend(legend_lines, legend_labels, loc='upper right')\n",
        "\n",
        "\n",
        "#setting the nodes for lower chords\n",
        "lower_nodes=np.zeros(bays+1)\n",
        "bay=0\n",
        "for node in lower_nodes:\n",
        "  ax.plot(node+bay,0,\"ko\")\n",
        "  bay+=bay_width\n",
        "\n",
        "\n",
        "#setting the nodes for upper chords\n",
        "upper_nodes=np.zeros(bays-1)\n",
        "bay=bay_width\n",
        "for node in upper_nodes:\n",
        "  ax.plot(node+bay,Br_height,\"ko\")\n",
        "  bay+=bay_width\n",
        "\n",
        "#Adding bottom chords\n",
        "for i in range(bays):\n",
        "  ax.plot([i*bay_width,(i+1)*bay_width],[0,0])\n",
        "\n",
        "#Adding Top chords\n",
        "for i in range(bays-2):\n",
        "  ax.plot([(i+1)*bay_width,(i+2)*bay_width],[Br_height,Br_height])\n",
        "\n",
        "  #Adding vertical chords\n",
        "for i in range(1,bays):\n",
        "  ax.plot([i*bay_width,i*bay_width],[0,Br_height])\n",
        "\n",
        "#Adding diagonal chords\n",
        "for i in range(bays):\n",
        "  if i==0 or (i>=bays/2 and i<bays-1):\n",
        "    ax.plot([i*bay_width,(i+1)*bay_width],[0,Br_height])\n",
        "  else:\n",
        "    ax.plot([i*bay_width,(i+1)*bay_width],[Br_height,0])\n",
        "#creatin supports\n",
        "colored_circle=plt.Circle((bays*bay_width,-1),1,color='green')\n",
        "ax.add_artist(colored_circle)\n",
        "\n",
        "vertices=[[-1,-2],[0,0],[1,-2]]\n",
        "triangle=plt.Polygon(vertices,closed=True,color='green')\n",
        "ax.add_patch(triangle)\n",
        "ax.set_aspect('equal')\n",
        "ax.axis('on')\n",
        "plt.show()"
      ]
    },
    {
      "cell_type": "markdown",
      "metadata": {
        "id": "G_sLO16n0J7F"
      },
      "source": [
        "**Top Chord Calculation**"
      ]
    },
    {
      "cell_type": "code",
      "execution_count": 7,
      "metadata": {
        "id": "zp_mS0UIe6NO"
      },
      "outputs": [],
      "source": [
        "\n",
        "# Function to generate axial forces at each increment\n",
        "def barlist():\n",
        "    y_val = [[] for _ in range(bays)]\n",
        "    axial_force = [[] for _ in range(bays)]\n",
        "    for i in np.arange(0, span+ loads[-1][1] + 0.1, 0.1):#\n",
        "        for j in range(bays):\n",
        "            x = np.array([0, upp_sec[j], span])\n",
        "            y = np.array([0, upp_ord[j], 0])\n",
        "            y_val[j].append(np.interp(i, x, y))\n",
        "            load_val = []\n",
        "            position = []\n",
        "            for load, pos in loads:\n",
        "                if pos <= i:\n",
        "                    load_val.append(load)\n",
        "                    if pos==0:\n",
        "                      position.append(y_val[j][int(i*10)])\n",
        "                    else:\n",
        "                      position.append(y_val[j][int((i-pos)*10)])\n",
        "            axial_force[j].append(sum(np.array(load_val)*np.array(position)))\n",
        "    return axial_force\n",
        "y_vals = barlist()\n",
        "\n",
        "# Maximum y value for setting the y-axis limits\n",
        "max_y_lim = min(min(max_val) for max_val in y_vals)  # Top chord consist of negative value\n",
        "\n",
        "#ax.set_aspect('equal', adjustable='box')\n",
        "#plt.axis(\"off\")\n",
        "ax.set_aspect('equal')\n",
        "x = np.arange(2, bays) * bay_width - bay_width / 2  # Centering the bays\n",
        "barcollection = ax.bar(x, [0] * (bays - 2), width=bay_width, bottom=Br_height)  # Initializing bars with zero heights w.r.t top chord\n",
        "\n",
        "# Set the y-axis limits with a buffer\n",
        "buffer = max_y_lim * 0.1  # 10% increased\n",
        "scaling_fac = (Br_height / 4) / abs(max_y_lim)\n",
        "ax.set_ylim((max_y_lim + buffer) * scaling_fac,Br_height+8)\n",
        "ax.set_xlim(-2,span+1)\n",
        "\n",
        "ax.axis('off')\n",
        "bar_texts = [ax.text(x_pos, 0, '', ha='center', va='bottom') for x_pos in x]\n",
        "\n",
        "# Function to calculate the transformed rectangle\n",
        "def rotated_rectangle(ht, width, theta, origin):\n",
        "\n",
        "    rectangle = np.array([[0, 0], [width, 0], [width, ht], [0, ht], [0, 0]])  # Close the rectangle\n",
        "    c, s = np.cos(theta), np.sin(theta)\n",
        "    R = np.array([[c, -s], [s, c]])\n",
        "    return np.dot(rectangle, R) + origin\n",
        "\n",
        "# Preparing the inclined rectangle\n",
        "#inclined_rect = plt.Polygon(np.zeros((4, 2)), closed=True, color='b')\n",
        "#ax.add_patch(inclined_rect)\n",
        "######################################################################\n",
        "#Initialising the polygon and text for the diagonal chords\n",
        "inclined_rects = []\n",
        "for k in range(0,bays):\n",
        "    rect = plt.Polygon(np.zeros((4, 2)), closed=True, color='b')\n",
        "    ax.add_patch(rect)\n",
        "    inclined_rects.append(rect)\n",
        "\n",
        "inclined_texts = []\n",
        "for k in range(0, bays):\n",
        "    text = ax.text(0, 0, '', ha='center', va='center', color='black')\n",
        "    inclined_texts.append(text)\n",
        "#######################################################################\n",
        "#Initialising the polygon and text for the vertical chords\n",
        "inclined_rects_vert = []\n",
        "for k in range(0,bays-1):\n",
        "    rect = plt.Polygon(np.zeros((4, 2)), closed=True, color='b')\n",
        "    ax.add_patch(rect)\n",
        "    inclined_rects_vert.append(rect)\n",
        "\n",
        "inclined_texts_vert = []\n",
        "for k in range(0, bays-1):\n",
        "    text = ax.text(0, 0, '', ha='center', va='center', color='black')\n",
        "    inclined_texts_vert.append(text)"
      ]
    },
    {
      "cell_type": "markdown",
      "metadata": {
        "id": "e1scVbnL0l5S"
      },
      "source": [
        "**Bottom Chord Calculation**"
      ]
    },
    {
      "cell_type": "code",
      "execution_count": 8,
      "metadata": {
        "id": "bnFja7lX0Te-"
      },
      "outputs": [],
      "source": [
        "# Function to generate axial forces at each increment\n",
        "def barlist():\n",
        "    y_val = [[] for _ in range(bays)]\n",
        "    axial_force = [[] for _ in range(bays)]\n",
        "    for i in np.arange(0, span+loads[-1][1] + 0.1, 0.1):#\n",
        "        for j in range(bays):\n",
        "            x = np.array([0, bot_sec[j], span])\n",
        "            y = np.array([0, bot_ord[j], 0])\n",
        "            y_val[j].append(np.interp(i, x, y))\n",
        "            load_val=[]\n",
        "            position=[]\n",
        "\n",
        "            for load,pos in loads:\n",
        "              if pos<=i:\n",
        "                load_val.append(load)\n",
        "                if pos==0:\n",
        "                  position.append(y_val[j][int(i*10)])\n",
        "                else:\n",
        "                  position.append(y_val[j][int((i-pos)*10)])\n",
        "            axial_force[j].append(sum(np.array(load_val)*np.array(position)))\n",
        "    return axial_force\n",
        "y_vals_bot = barlist()\n",
        "\n",
        "\n",
        "# maximum y value for setting the y-axis limits\n",
        "#max_y_lim=max(max(max_val) for max_val in y_vals)\n",
        "\n",
        "x_bot = np.arange(1, bays + 1) *bay_width-bay_width/ 2  # centering the bays so that each bar donot overlap each other\n",
        "barcollection_bot = ax.bar(x_bot, [0] * bays,width=bay_width)  # Initializing bars with zero heights\n",
        "\n",
        "# Set the y-axis limits with a bit of a buffer so that it can be clearly vsisible\n",
        "#buffer=max_y_lim *0.1 #10% increased\n",
        "\n",
        "#ax.set_ylim(0,max_y_lim + buffer)\n",
        "#ax.axis('off')\n",
        "# Initializing text annotations for each bar\n",
        "bar_texts_bot = [ax.text(x_pos, 0, '', ha='center', va='bottom') for x_pos in x_bot]\n",
        "\n",
        "def animate(i):\n",
        "    #if i < len(barlist()):\n",
        "        #for k in range(len(barlist()[0])):\n",
        "          for j, b in enumerate(barcollection):\n",
        "            #y = barlist()[j]\n",
        "            #b.set_height(y[k])\n",
        "            b.set_height(y_vals_bot[j][i])\n",
        "            #print(y[k])\n",
        "# Update the text annotation for each bar to move along with the bar\n",
        "            bar_texts_bot[j].set_text(f'{y_vals_bot[j][i]:.2f}')\n",
        "            bar_texts_bot[j].set_y(y_vals_bot[j][i] + buffer * 0.05)  # Adjusting this offset\n"
      ]
    },
    {
      "cell_type": "markdown",
      "metadata": {
        "id": "lu2POrEPK6wy"
      },
      "source": [
        "**Diagonal Chord Calculation**"
      ]
    },
    {
      "cell_type": "code",
      "execution_count": 9,
      "metadata": {
        "id": "0LArdcHYIqzy"
      },
      "outputs": [],
      "source": [
        "# Function to generate axial forces at each increment\n",
        "def barlist():\n",
        "    y_val = [[] for _ in range(bays-2)]\n",
        "    axial_force = [[] for _ in range(bays-2)]\n",
        "    for i in np.arange(0, span+ loads[-1][1] + 0.1, 0.1):#+ loads[-1][1]\n",
        "        for j in range(bays-2):\n",
        "            x = np.array([0, diag_sec[j][0],diag_sec[j][1], span])\n",
        "            y = np.array([0, diag_ord[j][0],diag_ord[j][1], 0])\n",
        "            y_val[j].append(np.interp(i, x, y))\n",
        "            load_val = []\n",
        "            position = []\n",
        "            for load, pos in loads:\n",
        "                if pos <= i:\n",
        "                    load_val.append(load)\n",
        "                    if pos==0:\n",
        "                      position.append(y_val[j][int(i*10)])\n",
        "                    else:\n",
        "                      position.append(y_val[j][int((i-pos)*10)])\n",
        "            axial_force[j].append(sum(np.array(load_val)*np.array(position)))\n",
        "    return axial_force\n",
        "y_vals_diag = barlist()\n",
        "\n",
        "\n"
      ]
    },
    {
      "cell_type": "markdown",
      "metadata": {
        "id": "r_6LkqxhXxoR"
      },
      "source": [
        "**Vertical Chord Calculation**"
      ]
    },
    {
      "cell_type": "code",
      "execution_count": 10,
      "metadata": {
        "id": "oR4COcyLXi85"
      },
      "outputs": [],
      "source": [
        "\n",
        "\n",
        "# Function to generate axial forces at each increment\n",
        "def barlist():\n",
        "    y_val = [[] for _ in range(bays-1)]\n",
        "    axial_force = [[] for _ in range(bays-1)]\n",
        "    for i in np.arange(0, span+ loads[-1][1] + 0.1, 0.1):#+ loads[-1][1]\n",
        "        for j in range(bays-1):\n",
        "            x = np.array([0, vert_sec[j][0],vert_sec[j][1], span])\n",
        "            y = np.array([0, vert_ord[j][0],vert_ord[j][1], 0])\n",
        "            y_val[j].append(np.interp(i, x, y))\n",
        "            load_val = []\n",
        "            position = []\n",
        "            for load, pos in loads:\n",
        "                if pos <= i:\n",
        "                    load_val.append(load)\n",
        "                    if pos==0:\n",
        "                      position.append(y_val[j][int(i*10)])\n",
        "                    else:\n",
        "                      position.append(y_val[j][int((i-pos)*10)])\n",
        "            axial_force[j].append(sum(np.array(load_val)*np.array(position)))\n",
        "    return axial_force\n",
        "y_vals_vert = barlist()\n",
        "\n",
        "\n",
        "\n",
        "\n",
        "a = np.arange(0, span+loads[-1][1]+0.1, 0.1) #+loads[-1][1]\n",
        "\n",
        "\n",
        "# Initializing arrow\n",
        "arrows = [ax.arrow(0, 5, 0, -5, width=0.1, head_width=0.3, color='k') for i in range(len(loads))]\n",
        "\n",
        "#Initializing text\n",
        "arrows_text=[ax.text(0,0,'',ha='center',va='bottom',fontsize=5,fontweight='bold',color='k') for x in loads]\n"
      ]
    },
    {
      "cell_type": "markdown",
      "metadata": {
        "id": "Hz3TmfuxXkQj"
      },
      "source": [
        "**Animation**"
      ]
    },
    {
      "cell_type": "code",
      "execution_count": 11,
      "metadata": {
        "id": "VX6tzSX8xyx-"
      },
      "outputs": [],
      "source": [
        "\n",
        "# Combined animation function\n",
        "def animate_combined(i):\n",
        "    # Updating bars for top axial forces\n",
        "    for j, b in enumerate(barcollection):\n",
        "        b.set_height(y_vals[j + 1][i] * scaling_fac)\n",
        "        if y_vals[j + 1][i]<0:\n",
        "          b.set_color('red')  #compression\n",
        "        else:\n",
        "          b.set_color('blue')  #tension\n",
        "        bar_texts[j].set_text(f'{y_vals[j+1][i]:.2f}')\n",
        "        bar_texts[j].set_y(Br_height+(y_vals[j+1][i]+buffer*6)*scaling_fac)\n",
        "        bar_texts[j].set_fontsize(7)\n",
        "\n",
        "    # Updating the inclined axial forces for top and diagonal chord\n",
        "    for k in range(0,bays):\n",
        "      if k==bays-1:\n",
        "        ht = y_vals[-1][i] * scaling_fac\n",
        "        theta = angle\n",
        "        width=Br_height/np.sin((theta))\n",
        "        origin = np.array([(bays-1)*bay_width, Br_height])  # Position of the rectangle\n",
        "        transformed_rectangle = rotated_rectangle(ht, width, theta, origin)\n",
        "        inclined_rects[k].set_xy(transformed_rectangle[:-1])\n",
        "\n",
        "        if y_vals[-1][i]<0:\n",
        "          inclined_rects[k].set_color('red')\n",
        "        else:\n",
        "          inclined_rects[k].set_color('blue')\n",
        "\n",
        "        text_x = ((bays-1)*bay_width + (Br_height / 2) / np.tan(theta))+0.75\n",
        "        text_y = Br_height/2 + ht / 2\n",
        "        inclined_texts[k].set_position((text_x, text_y))\n",
        "        inclined_texts[k].set_text(f'{y_vals[-1][i]:.2f}')\n",
        "        inclined_texts[k].set_rotation(np.degrees(np.radians(360)-theta))\n",
        "        inclined_texts[k].set_fontsize(7)\n",
        "\n",
        "\n",
        "      elif k==0:\n",
        "        ht = y_vals[0][i] * scaling_fac\n",
        "        theta =np.radians(360)-angle\n",
        "        width=-Br_height/np.sin((theta))\n",
        "        origin = np.array([0, 0])  # Position of the rectangle\n",
        "        transformed_rectangle = rotated_rectangle(ht, width, theta, origin)\n",
        "        inclined_rects[k].set_xy(transformed_rectangle[:-1])\n",
        "\n",
        "        if y_vals[0][i]<0:\n",
        "          inclined_rects[k].set_color('red')\n",
        "        else:\n",
        "          inclined_rects[k].set_color('blue')\n",
        "\n",
        "        text_x = ((Br_height / 2) / np.tan(np.radians(360) - theta))-0.75\n",
        "        text_y = (ht / 2)+ Br_height/2\n",
        "        inclined_texts[k].set_position((text_x, text_y))\n",
        "        inclined_texts[k].set_text(f'{y_vals[0][i]:.2f}')\n",
        "        inclined_texts[k].set_rotation(np.degrees(np.radians(360)-theta))\n",
        "        inclined_texts[k].set_fontsize(7)\n",
        "\n",
        "      elif k>0 and k<bays/2:\n",
        "         ht = y_vals_diag[k-1][i] * scaling_fac\n",
        "         theta = angle\n",
        "         width=Br_height/np.sin((theta))\n",
        "         origin = np.array([k*bay_width, Br_height])\n",
        "         transformed_rectangle = rotated_rectangle(ht, width, theta, origin)\n",
        "         inclined_rects[k].set_xy(transformed_rectangle[:-1])\n",
        "\n",
        "         if y_vals_diag[k-1][i]<0:\n",
        "          inclined_rects[k].set_color('red')\n",
        "         else:\n",
        "          inclined_rects[k].set_color('blue')\n",
        "\n",
        "         text_x = ((k)*bay_width + (Br_height / 2) / np.tan(theta))+0.75\n",
        "         text_y = Br_height/2 + ht / 2\n",
        "         inclined_texts[k].set_position((text_x, text_y))\n",
        "         inclined_texts[k].set_text(f'{y_vals_diag[k-1][i]:.2f}')\n",
        "         inclined_texts[k].set_rotation(np.degrees(np.radians(360)-theta))\n",
        "         inclined_texts[k].set_fontsize(7)\n",
        "\n",
        "      elif k>=bays/2 and k<bays-1:\n",
        "         ht = y_vals_diag[k-1][i] * scaling_fac\n",
        "         theta =np.radians(360)-angle\n",
        "         width=-Br_height/np.sin((theta))\n",
        "         origin = np.array([k*bay_width, 0])  # Position of the rectangle\n",
        "         transformed_rectangle = rotated_rectangle(ht, width, theta, origin)\n",
        "         inclined_rects[k].set_xy(transformed_rectangle[:-1])\n",
        "\n",
        "         if y_vals_diag[k-1][i]<0:\n",
        "          inclined_rects[k].set_color('red')\n",
        "         else:\n",
        "          inclined_rects[k].set_color('blue')\n",
        "\n",
        "         text_x = (k*bay_width+(Br_height / 2) / np.tan(np.radians(360) - theta))-0.75\n",
        "         text_y =Br_height/2 + ht / 2\n",
        "         inclined_texts[k].set_position((text_x, text_y))\n",
        "         inclined_texts[k].set_text(f'{y_vals_diag[k-1][i]:.2f}')\n",
        "         inclined_texts[k].set_rotation(np.degrees(np.radians(360)-theta))\n",
        "         inclined_texts[k].set_fontsize(7)\n",
        "\n",
        " # Updating bars for bottom axial forces\n",
        "    for j, b in enumerate(barcollection_bot):\n",
        "            #y = barlist()[j]\n",
        "            #b.set_height(y[k])\n",
        "            b.set_height(y_vals_bot[j][i] * scaling_fac)\n",
        "            if y_vals_bot[j][i]<0:\n",
        "              b.set_color('red')  #compression\n",
        "            else:\n",
        "              b.set_color('blue')  #tension\n",
        "            #print(y[k])\n",
        "            bar_texts_bot[j].set_text(f'{y_vals_bot[j][i]:.2f}')# Update the text annotation for each bar to move along with the bar\n",
        "            bar_texts_bot[j].set_y((y_vals_bot[j][i] + buffer * 0.05)* scaling_fac)  # Adjust this offset as needed\n",
        "            bar_texts_bot[j].set_fontsize(7)\n",
        "\n",
        " # Updating bars for vertical axial forces\n",
        "    for k in range(bays-1):\n",
        "        ht = y_vals_vert[k][i] * scaling_fac\n",
        "        theta = np.radians(90)\n",
        "        width=Br_height\n",
        "        origin = np.array([(k+1)*bay_width, Br_height])  # Position of the rectangle\n",
        "        transformed_rectangle = rotated_rectangle(ht, width, theta, origin)\n",
        "        inclined_rects_vert[k].set_xy(transformed_rectangle[:-1])\n",
        "\n",
        "        if y_vals_vert[k][i]<0:\n",
        "          inclined_rects_vert[k].set_color('red')\n",
        "        else:\n",
        "          inclined_rects_vert[k].set_color('blue')\n",
        "\n",
        "        text_x = (k+1)*bay_width + ht/2+1\n",
        "        text_y =Br_height/2\n",
        "        inclined_texts_vert[k].set_position((text_x,text_y))\n",
        "        inclined_texts_vert[k].set_text(f'{y_vals_vert[k][i]:.2f}')\n",
        "        inclined_texts_vert[k].set_rotation(np.degrees(theta))\n",
        "        inclined_texts_vert[k].set_fontsize(7)\n",
        "\n",
        "    for l, j in enumerate(loads):\n",
        "        # Update the arrow's position\n",
        "        arrows[l].remove()\n",
        "        if l ==0:\n",
        "          arrows[l] = ax.arrow(a[i], 5, 0, -4.5, width=0.1, head_width=0.3, color='k')\n",
        "          arrows_text[l].set_text(f'{j[0]}')\n",
        "          arrows_text[l].set_position((a[i],-1.5))\n",
        "\n",
        "        else:\n",
        "          arrows[l] = ax.arrow(a[i] - j[1], 5, 0, -4.5, width=0.1, head_width=0.3, color='k')\n",
        "          arrows_text[l].set_text(f'{j[0]}')\n",
        "          arrows_text[l].set_position((a[i]-j[1],-1.5))\n",
        "\n",
        "# Creating the combined animation\n",
        "num_frames = len(y_vals[0])\n",
        "anim_combined = animation.FuncAnimation(fig, animate_combined, repeat=False, frames=num_frames, interval=60)\n",
        "fig.suptitle(\"Dynamic Axial Force of Pratt Truss Bridge\",fontsize=14)\n",
        "\n",
        "# Displaying the combined animation\n",
        "#HTML(anim_combined.to_jshtml())\n",
        "duration=30 #30 sec animation\n",
        "writervideo = animation.FFMpegWriter(fps=num_frames/duration)\n",
        "anim_combined.save('Dynamicload.mp4', writer=writervideo)\n",
        "plt.close()"
      ]
    },
    {
      "cell_type": "code",
      "execution_count": null,
      "metadata": {
        "id": "ePl71UdqrEPG"
      },
      "outputs": [],
      "source": []
    }
  ],
  "metadata": {
    "colab": {
      "provenance": [],
      "include_colab_link": true
    },
    "kernelspec": {
      "display_name": "Python 3",
      "name": "python3"
    },
    "language_info": {
      "name": "python"
    }
  },
  "nbformat": 4,
  "nbformat_minor": 0
}